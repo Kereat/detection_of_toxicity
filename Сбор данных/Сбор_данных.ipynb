{
 "cells": [
  {
   "cell_type": "code",
   "execution_count": 1,
   "metadata": {
    "id": "nan4_ahfSLIx"
   },
   "outputs": [],
   "source": [
    "import requests\n",
    "import json\n",
    "import pandas as pd\n",
    "import numpy as np\n",
    "import re"
   ]
  },
  {
   "cell_type": "markdown",
   "metadata": {
    "id": "pWcXxxCZSLI2"
   },
   "source": [
    "## Получаем темы обсуждений"
   ]
  },
  {
   "cell_type": "markdown",
   "metadata": {
    "id": "FSl6xAWbZCGI"
   },
   "source": [
    "Параметры для формирования запросов"
   ]
  },
  {
   "cell_type": "code",
   "execution_count": 2,
   "metadata": {
    "id": "RRETvcjAZCVk"
   },
   "outputs": [],
   "source": [
    "domain = 'podslstankin' # сокращенный адрес группы вк (подслушано СТАНКИН)\n",
    "count = 100 # количество записей для запроса (максимум 100)\n",
    "access_token = '' # токен авторизованного приложения\n",
    "v = '5.124' # версия api вк"
   ]
  },
  {
   "cell_type": "markdown",
   "metadata": {
    "id": "vsQQiSZCSLI3"
   },
   "source": [
    "Формируем ссылку для запроса и получаем ответ"
   ]
  },
  {
   "cell_type": "code",
   "execution_count": 3,
   "metadata": {
    "colab": {
     "base_uri": "https://localhost:8080/"
    },
    "id": "W4A0tjpYSLI3",
    "outputId": "7c975997-4591-407d-b540-84b5f0cc33c9"
   },
   "outputs": [
    {
     "name": "stdout",
     "output_type": "stream",
     "text": [
      "https://api.vk.com/method/wall.get?domain=podslstankin&count=100&access_token=52b9157b52b9157b52b9157b2752cd6b0b552b952b9157b0d34dbcc279b15430fcd3ab5&v=5.124\n"
     ]
    }
   ],
   "source": [
    "link_topics = 'https://api.vk.com/method/wall.get?domain={0}&count={1}&access_token={2}&v={3}'.format(domain, count, access_token, v) # ссылка для запроса\n",
    "request_topics = requests.get(link_topics) # ответ на запрос в формате json\n",
    "print(link_topics) # сформированная ссылка\n",
    "#print(request_topics.text) # результат выполнения запроса"
   ]
  },
  {
   "cell_type": "markdown",
   "metadata": {
    "id": "3DaX6JWXXF9J"
   },
   "source": [
    "Записываем в переменную количество тем в группе вк"
   ]
  },
  {
   "cell_type": "markdown",
   "metadata": {
    "id": "IHADY65u7GFU"
   },
   "source": [
    "Переменная заводится для того, чтобы при новом запуске парсера вытащить все строки, а не ограничиться конкретным числом (если есть новые сообщения в группе)"
   ]
  },
  {
   "cell_type": "code",
   "execution_count": 4,
   "metadata": {
    "colab": {
     "base_uri": "https://localhost:8080/"
    },
    "id": "Qdc0pSSuWk95",
    "outputId": "8243e62e-0dad-497a-b677-0c39fca13894"
   },
   "outputs": [
    {
     "data": {
      "text/plain": [
       "14151"
      ]
     },
     "execution_count": 4,
     "metadata": {},
     "output_type": "execute_result"
    }
   ],
   "source": [
    "pattern_size = r'\\{\\\"response\\\"\\:\\{\\\"count\\\"\\:(.*?)\\,'\n",
    "size = int(re.findall(pattern_size, request_topics.text)[0]) # вытаскиваем из результата запроса количество тем\n",
    "size"
   ]
  },
  {
   "cell_type": "markdown",
   "metadata": {
    "id": "LLDBUkadSLI4"
   },
   "source": [
    "Обрабатываем полученный ответ и получаем списки с ID постов, ID владельца стены, даты и тексты постов. Формируем первые записи для набора данных в датафрейме"
   ]
  },
  {
   "cell_type": "code",
   "execution_count": 5,
   "metadata": {
    "id": "ucTpLyYCSLI4"
   },
   "outputs": [],
   "source": [
    "def formation_df(request_topics):\n",
    "    pattern = r'\\{\\\"id(.*?)\\}\\}'\n",
    "    items = re.findall(pattern, request_topics.text) # вытаскиваем все данные, относящиеся к теме \n",
    "    pattern = r'\\\"\\:(.*?)\\,.*?\\\"owner_id\\\"\\:(.*?)\\,\\\"date\\\"\\:(.*?)\\,.*?\\\"text\\\"\\:\\\"(.*?)\\\"\\,'\n",
    "    list_id = [] # id темы\n",
    "    list_owner_id = [] # id владельца стены\n",
    "    list_date = [] # дату, когда была опубликована тема\n",
    "    list_text = [] # текст темы\n",
    "    for i in items:\n",
    "        k = re.findall(pattern, i) # вытаскиваем необходимые данные (которые выше) из результата запроса по каждой теме\n",
    "        for j in k:\n",
    "            list_id.append(j[0])\n",
    "            list_owner_id.append(j[1])\n",
    "            list_date.append(j[2])\n",
    "            list_text.append(j[3])\n",
    "    d = {'ID':np.array(list_id), 'OwnerID':np.array(list_owner_id),\n",
    "                 'Date':np.array(list_date), 'Text':np.array(list_text)} # формируем словарь для записи в виде датафрейма\n",
    "    df = pd.DataFrame(d) # формируем датафрейм\n",
    "    return df"
   ]
  },
  {
   "cell_type": "markdown",
   "metadata": {
    "id": "r-JvgK6DSLI5"
   },
   "source": [
    "Смотрим результат"
   ]
  },
  {
   "cell_type": "code",
   "execution_count": 6,
   "metadata": {
    "colab": {
     "base_uri": "https://localhost:8080/",
     "height": 419
    },
    "id": "PaaJE7-iSLI5",
    "outputId": "b3ecf749-71bd-4df2-a44a-1af41e605075"
   },
   "outputs": [
    {
     "data": {
      "text/html": [
       "<div>\n",
       "<style scoped>\n",
       "    .dataframe tbody tr th:only-of-type {\n",
       "        vertical-align: middle;\n",
       "    }\n",
       "\n",
       "    .dataframe tbody tr th {\n",
       "        vertical-align: top;\n",
       "    }\n",
       "\n",
       "    .dataframe thead th {\n",
       "        text-align: right;\n",
       "    }\n",
       "</style>\n",
       "<table border=\"1\" class=\"dataframe\">\n",
       "  <thead>\n",
       "    <tr style=\"text-align: right;\">\n",
       "      <th></th>\n",
       "      <th>ID</th>\n",
       "      <th>OwnerID</th>\n",
       "      <th>Date</th>\n",
       "      <th>Text</th>\n",
       "    </tr>\n",
       "  </thead>\n",
       "  <tbody>\n",
       "    <tr>\n",
       "      <th>0</th>\n",
       "      <td>115862</td>\n",
       "      <td>-58804998</td>\n",
       "      <td>1614801537</td>\n",
       "      <td>Ах вот что это. Анон</td>\n",
       "    </tr>\n",
       "    <tr>\n",
       "      <th>1</th>\n",
       "      <td>115861</td>\n",
       "      <td>-58804998</td>\n",
       "      <td>1614801526</td>\n",
       "      <td>Есть фото общежития внутри из Люблино?</td>\n",
       "    </tr>\n",
       "    <tr>\n",
       "      <th>2</th>\n",
       "      <td>115860</td>\n",
       "      <td>-58804998</td>\n",
       "      <td>1614801505</td>\n",
       "      <td>У 1 или 2 курса будет обязательная производств...</td>\n",
       "    </tr>\n",
       "    <tr>\n",
       "      <th>3</th>\n",
       "      <td>115850</td>\n",
       "      <td>-58804998</td>\n",
       "      <td>1614755304</td>\n",
       "      <td>Потеряла пропуск на имя Марии Бурлаковой.\\nНап...</td>\n",
       "    </tr>\n",
       "    <tr>\n",
       "      <th>4</th>\n",
       "      <td>115840</td>\n",
       "      <td>-58804998</td>\n",
       "      <td>1614603396</td>\n",
       "      <td>Анон\\nИщу старост групп ИДБ-20-01,02,03,04</td>\n",
       "    </tr>\n",
       "    <tr>\n",
       "      <th>...</th>\n",
       "      <td>...</td>\n",
       "      <td>...</td>\n",
       "      <td>...</td>\n",
       "      <td>...</td>\n",
       "    </tr>\n",
       "    <tr>\n",
       "      <th>95</th>\n",
       "      <td>115094</td>\n",
       "      <td>-58804998</td>\n",
       "      <td>1608914149</td>\n",
       "      <td>Преподы отправляют модули после срока\\/Деканат...</td>\n",
       "    </tr>\n",
       "    <tr>\n",
       "      <th>96</th>\n",
       "      <td>115093</td>\n",
       "      <td>-58804998</td>\n",
       "      <td>1608914138</td>\n",
       "      <td>Найдутся ли у кого билеты за 3 семестр по мате...</td>\n",
       "    </tr>\n",
       "    <tr>\n",
       "      <th>97</th>\n",
       "      <td>115077</td>\n",
       "      <td>-58804998</td>\n",
       "      <td>1608816111</td>\n",
       "      <td>3-е общежитие, умеет ли кто делать капельницы?...</td>\n",
       "    </tr>\n",
       "    <tr>\n",
       "      <th>98</th>\n",
       "      <td>115067</td>\n",
       "      <td>-58804998</td>\n",
       "      <td>1608392190</td>\n",
       "      <td>У кого-нибудь остались лекции по  ИЭС Быстрико...</td>\n",
       "    </tr>\n",
       "    <tr>\n",
       "      <th>99</th>\n",
       "      <td>115056</td>\n",
       "      <td>-58804998</td>\n",
       "      <td>1608385675</td>\n",
       "      <td>По какой то причине не работает дискорд через ...</td>\n",
       "    </tr>\n",
       "  </tbody>\n",
       "</table>\n",
       "<p>100 rows × 4 columns</p>\n",
       "</div>"
      ],
      "text/plain": [
       "        ID    OwnerID        Date  \\\n",
       "0   115862  -58804998  1614801537   \n",
       "1   115861  -58804998  1614801526   \n",
       "2   115860  -58804998  1614801505   \n",
       "3   115850  -58804998  1614755304   \n",
       "4   115840  -58804998  1614603396   \n",
       "..     ...        ...         ...   \n",
       "95  115094  -58804998  1608914149   \n",
       "96  115093  -58804998  1608914138   \n",
       "97  115077  -58804998  1608816111   \n",
       "98  115067  -58804998  1608392190   \n",
       "99  115056  -58804998  1608385675   \n",
       "\n",
       "                                                 Text  \n",
       "0                                Ах вот что это. Анон  \n",
       "1              Есть фото общежития внутри из Люблино?  \n",
       "2   У 1 или 2 курса будет обязательная производств...  \n",
       "3   Потеряла пропуск на имя Марии Бурлаковой.\\nНап...  \n",
       "4          Анон\\nИщу старост групп ИДБ-20-01,02,03,04  \n",
       "..                                                ...  \n",
       "95  Преподы отправляют модули после срока\\/Деканат...  \n",
       "96  Найдутся ли у кого билеты за 3 семестр по мате...  \n",
       "97  3-е общежитие, умеет ли кто делать капельницы?...  \n",
       "98  У кого-нибудь остались лекции по  ИЭС Быстрико...  \n",
       "99  По какой то причине не работает дискорд через ...  \n",
       "\n",
       "[100 rows x 4 columns]"
      ]
     },
     "execution_count": 6,
     "metadata": {},
     "output_type": "execute_result"
    }
   ],
   "source": [
    "df = formation_df(request_topics)\n",
    "df"
   ]
  },
  {
   "cell_type": "markdown",
   "metadata": {
    "id": "gsb0G3U7SLI5"
   },
   "source": [
    "Функция для дозаполнения созданного датафрейма df_old новым df_new, содержащий количество записей offset"
   ]
  },
  {
   "cell_type": "code",
   "execution_count": 7,
   "metadata": {
    "id": "2pmAL8sRSLI5"
   },
   "outputs": [],
   "source": [
    "def new_dataframe(offset, df_old, domain, count, access_token, v):\n",
    "    link_topics = 'https://api.vk.com/method/wall.get?domain={0}&offset={1}&count={2}&access_token={3}&v={4}'.format(domain, offset, count, access_token, v)\n",
    "    request_topics = requests.get(link_topics)\n",
    "    df_new = formation_df(request_topics)\n",
    "    df = df_old.append(df_new)\n",
    "    return df"
   ]
  },
  {
   "cell_type": "markdown",
   "metadata": {
    "id": "0d2WeB-CSLI6"
   },
   "source": [
    "Запускаем функцию для сбора всех записей в группе"
   ]
  },
  {
   "cell_type": "code",
   "execution_count": 8,
   "metadata": {
    "colab": {
     "base_uri": "https://localhost:8080/",
     "height": 419
    },
    "id": "UcuLBZwuSLI6",
    "outputId": "4168745d-794c-4536-96c2-956660f06347"
   },
   "outputs": [
    {
     "data": {
      "text/html": [
       "<div>\n",
       "<style scoped>\n",
       "    .dataframe tbody tr th:only-of-type {\n",
       "        vertical-align: middle;\n",
       "    }\n",
       "\n",
       "    .dataframe tbody tr th {\n",
       "        vertical-align: top;\n",
       "    }\n",
       "\n",
       "    .dataframe thead th {\n",
       "        text-align: right;\n",
       "    }\n",
       "</style>\n",
       "<table border=\"1\" class=\"dataframe\">\n",
       "  <thead>\n",
       "    <tr style=\"text-align: right;\">\n",
       "      <th></th>\n",
       "      <th>ID</th>\n",
       "      <th>OwnerID</th>\n",
       "      <th>Date</th>\n",
       "      <th>Text</th>\n",
       "    </tr>\n",
       "  </thead>\n",
       "  <tbody>\n",
       "    <tr>\n",
       "      <th>0</th>\n",
       "      <td>115862</td>\n",
       "      <td>-58804998</td>\n",
       "      <td>1614801537</td>\n",
       "      <td>Ах вот что это. Анон</td>\n",
       "    </tr>\n",
       "    <tr>\n",
       "      <th>1</th>\n",
       "      <td>115861</td>\n",
       "      <td>-58804998</td>\n",
       "      <td>1614801526</td>\n",
       "      <td>Есть фото общежития внутри из Люблино?</td>\n",
       "    </tr>\n",
       "    <tr>\n",
       "      <th>2</th>\n",
       "      <td>115860</td>\n",
       "      <td>-58804998</td>\n",
       "      <td>1614801505</td>\n",
       "      <td>У 1 или 2 курса будет обязательная производств...</td>\n",
       "    </tr>\n",
       "    <tr>\n",
       "      <th>3</th>\n",
       "      <td>115850</td>\n",
       "      <td>-58804998</td>\n",
       "      <td>1614755304</td>\n",
       "      <td>Потеряла пропуск на имя Марии Бурлаковой.\\nНап...</td>\n",
       "    </tr>\n",
       "    <tr>\n",
       "      <th>4</th>\n",
       "      <td>115840</td>\n",
       "      <td>-58804998</td>\n",
       "      <td>1614603396</td>\n",
       "      <td>Анон\\nИщу старост групп ИДБ-20-01,02,03,04</td>\n",
       "    </tr>\n",
       "    <tr>\n",
       "      <th>...</th>\n",
       "      <td>...</td>\n",
       "      <td>...</td>\n",
       "      <td>...</td>\n",
       "      <td>...</td>\n",
       "    </tr>\n",
       "    <tr>\n",
       "      <th>46</th>\n",
       "      <td>17</td>\n",
       "      <td>-58804998</td>\n",
       "      <td>1380041274</td>\n",
       "      <td>Это особенность такая у студентов технических ...</td>\n",
       "    </tr>\n",
       "    <tr>\n",
       "      <th>47</th>\n",
       "      <td>15</td>\n",
       "      <td>-58804998</td>\n",
       "      <td>1380041060</td>\n",
       "      <td>Другу понравилась наша староста, но она помойм...</td>\n",
       "    </tr>\n",
       "    <tr>\n",
       "      <th>48</th>\n",
       "      <td>10</td>\n",
       "      <td>-58804998</td>\n",
       "      <td>1380037340</td>\n",
       "      <td>Позитивно:)</td>\n",
       "    </tr>\n",
       "    <tr>\n",
       "      <th>49</th>\n",
       "      <td>7</td>\n",
       "      <td>-58804998</td>\n",
       "      <td>1380036426</td>\n",
       "      <td>Меня очень удивило, как перваки сегодня стоят ...</td>\n",
       "    </tr>\n",
       "    <tr>\n",
       "      <th>50</th>\n",
       "      <td>4</td>\n",
       "      <td>-58804998</td>\n",
       "      <td>1379961244</td>\n",
       "      <td>я сижу уже какой год в аудитории и незнаю как ...</td>\n",
       "    </tr>\n",
       "  </tbody>\n",
       "</table>\n",
       "<p>14156 rows × 4 columns</p>\n",
       "</div>"
      ],
      "text/plain": [
       "        ID    OwnerID        Date  \\\n",
       "0   115862  -58804998  1614801537   \n",
       "1   115861  -58804998  1614801526   \n",
       "2   115860  -58804998  1614801505   \n",
       "3   115850  -58804998  1614755304   \n",
       "4   115840  -58804998  1614603396   \n",
       "..     ...        ...         ...   \n",
       "46      17  -58804998  1380041274   \n",
       "47      15  -58804998  1380041060   \n",
       "48      10  -58804998  1380037340   \n",
       "49       7  -58804998  1380036426   \n",
       "50       4  -58804998  1379961244   \n",
       "\n",
       "                                                 Text  \n",
       "0                                Ах вот что это. Анон  \n",
       "1              Есть фото общежития внутри из Люблино?  \n",
       "2   У 1 или 2 курса будет обязательная производств...  \n",
       "3   Потеряла пропуск на имя Марии Бурлаковой.\\nНап...  \n",
       "4          Анон\\nИщу старост групп ИДБ-20-01,02,03,04  \n",
       "..                                                ...  \n",
       "46  Это особенность такая у студентов технических ...  \n",
       "47  Другу понравилась наша староста, но она помойм...  \n",
       "48                                        Позитивно:)  \n",
       "49  Меня очень удивило, как перваки сегодня стоят ...  \n",
       "50  я сижу уже какой год в аудитории и незнаю как ...  \n",
       "\n",
       "[14156 rows x 4 columns]"
      ]
     },
     "execution_count": 8,
     "metadata": {},
     "output_type": "execute_result"
    }
   ],
   "source": [
    "df_old = formation_df(request_topics)\n",
    "offset = 100\n",
    "while offset < size:\n",
    "    df = new_dataframe(offset, df_old, domain, count, access_token, v)\n",
    "    df_old = df\n",
    "    offset += 100\n",
    "    \n",
    "df"
   ]
  },
  {
   "cell_type": "markdown",
   "metadata": {
    "id": "sbkG5N6sSLI6"
   },
   "source": [
    "Записываем датафрейм в файл themes_raw.csv"
   ]
  },
  {
   "cell_type": "code",
   "execution_count": 9,
   "metadata": {
    "id": "TgxNopf0SLI6"
   },
   "outputs": [],
   "source": [
    "df.to_csv('themes_raw.csv')"
   ]
  },
  {
   "cell_type": "markdown",
   "metadata": {
    "id": "sUTcOCjVwvIQ"
   },
   "source": [
    "## Обработка данных с темами обсуждений"
   ]
  },
  {
   "cell_type": "markdown",
   "metadata": {
    "id": "E42twFQ06HHS"
   },
   "source": [
    "Создаем dataframe из созданного файла, чтобы в случае ошибок не было необходимо заново собирать данные через api.vk"
   ]
  },
  {
   "cell_type": "code",
   "execution_count": 10,
   "metadata": {
    "colab": {
     "base_uri": "https://localhost:8080/",
     "height": 419
    },
    "id": "bi-HcnLj1iAp",
    "outputId": "66815a37-bd40-44b1-a9d0-c9b9222362f3"
   },
   "outputs": [
    {
     "data": {
      "text/html": [
       "<div>\n",
       "<style scoped>\n",
       "    .dataframe tbody tr th:only-of-type {\n",
       "        vertical-align: middle;\n",
       "    }\n",
       "\n",
       "    .dataframe tbody tr th {\n",
       "        vertical-align: top;\n",
       "    }\n",
       "\n",
       "    .dataframe thead th {\n",
       "        text-align: right;\n",
       "    }\n",
       "</style>\n",
       "<table border=\"1\" class=\"dataframe\">\n",
       "  <thead>\n",
       "    <tr style=\"text-align: right;\">\n",
       "      <th></th>\n",
       "      <th>Unnamed: 0</th>\n",
       "      <th>ID</th>\n",
       "      <th>OwnerID</th>\n",
       "      <th>Date</th>\n",
       "      <th>Text</th>\n",
       "    </tr>\n",
       "  </thead>\n",
       "  <tbody>\n",
       "    <tr>\n",
       "      <th>0</th>\n",
       "      <td>0</td>\n",
       "      <td>115862</td>\n",
       "      <td>-58804998</td>\n",
       "      <td>1614801537</td>\n",
       "      <td>Ах вот что это. Анон</td>\n",
       "    </tr>\n",
       "    <tr>\n",
       "      <th>1</th>\n",
       "      <td>1</td>\n",
       "      <td>115861</td>\n",
       "      <td>-58804998</td>\n",
       "      <td>1614801526</td>\n",
       "      <td>Есть фото общежития внутри из Люблино?</td>\n",
       "    </tr>\n",
       "    <tr>\n",
       "      <th>2</th>\n",
       "      <td>2</td>\n",
       "      <td>115860</td>\n",
       "      <td>-58804998</td>\n",
       "      <td>1614801505</td>\n",
       "      <td>У 1 или 2 курса будет обязательная производств...</td>\n",
       "    </tr>\n",
       "    <tr>\n",
       "      <th>3</th>\n",
       "      <td>3</td>\n",
       "      <td>115850</td>\n",
       "      <td>-58804998</td>\n",
       "      <td>1614755304</td>\n",
       "      <td>Потеряла пропуск на имя Марии Бурлаковой.\\nНап...</td>\n",
       "    </tr>\n",
       "    <tr>\n",
       "      <th>4</th>\n",
       "      <td>4</td>\n",
       "      <td>115840</td>\n",
       "      <td>-58804998</td>\n",
       "      <td>1614603396</td>\n",
       "      <td>Анон\\nИщу старост групп ИДБ-20-01,02,03,04</td>\n",
       "    </tr>\n",
       "    <tr>\n",
       "      <th>...</th>\n",
       "      <td>...</td>\n",
       "      <td>...</td>\n",
       "      <td>...</td>\n",
       "      <td>...</td>\n",
       "      <td>...</td>\n",
       "    </tr>\n",
       "    <tr>\n",
       "      <th>14151</th>\n",
       "      <td>46</td>\n",
       "      <td>17</td>\n",
       "      <td>-58804998</td>\n",
       "      <td>1380041274</td>\n",
       "      <td>Это особенность такая у студентов технических ...</td>\n",
       "    </tr>\n",
       "    <tr>\n",
       "      <th>14152</th>\n",
       "      <td>47</td>\n",
       "      <td>15</td>\n",
       "      <td>-58804998</td>\n",
       "      <td>1380041060</td>\n",
       "      <td>Другу понравилась наша староста, но она помойм...</td>\n",
       "    </tr>\n",
       "    <tr>\n",
       "      <th>14153</th>\n",
       "      <td>48</td>\n",
       "      <td>10</td>\n",
       "      <td>-58804998</td>\n",
       "      <td>1380037340</td>\n",
       "      <td>Позитивно:)</td>\n",
       "    </tr>\n",
       "    <tr>\n",
       "      <th>14154</th>\n",
       "      <td>49</td>\n",
       "      <td>7</td>\n",
       "      <td>-58804998</td>\n",
       "      <td>1380036426</td>\n",
       "      <td>Меня очень удивило, как перваки сегодня стоят ...</td>\n",
       "    </tr>\n",
       "    <tr>\n",
       "      <th>14155</th>\n",
       "      <td>50</td>\n",
       "      <td>4</td>\n",
       "      <td>-58804998</td>\n",
       "      <td>1379961244</td>\n",
       "      <td>я сижу уже какой год в аудитории и незнаю как ...</td>\n",
       "    </tr>\n",
       "  </tbody>\n",
       "</table>\n",
       "<p>14156 rows × 5 columns</p>\n",
       "</div>"
      ],
      "text/plain": [
       "       Unnamed: 0      ID    OwnerID        Date  \\\n",
       "0               0  115862  -58804998  1614801537   \n",
       "1               1  115861  -58804998  1614801526   \n",
       "2               2  115860  -58804998  1614801505   \n",
       "3               3  115850  -58804998  1614755304   \n",
       "4               4  115840  -58804998  1614603396   \n",
       "...           ...     ...        ...         ...   \n",
       "14151          46      17  -58804998  1380041274   \n",
       "14152          47      15  -58804998  1380041060   \n",
       "14153          48      10  -58804998  1380037340   \n",
       "14154          49       7  -58804998  1380036426   \n",
       "14155          50       4  -58804998  1379961244   \n",
       "\n",
       "                                                    Text  \n",
       "0                                   Ах вот что это. Анон  \n",
       "1                 Есть фото общежития внутри из Люблино?  \n",
       "2      У 1 или 2 курса будет обязательная производств...  \n",
       "3      Потеряла пропуск на имя Марии Бурлаковой.\\nНап...  \n",
       "4             Анон\\nИщу старост групп ИДБ-20-01,02,03,04  \n",
       "...                                                  ...  \n",
       "14151  Это особенность такая у студентов технических ...  \n",
       "14152  Другу понравилась наша староста, но она помойм...  \n",
       "14153                                        Позитивно:)  \n",
       "14154  Меня очень удивило, как перваки сегодня стоят ...  \n",
       "14155  я сижу уже какой год в аудитории и незнаю как ...  \n",
       "\n",
       "[14156 rows x 5 columns]"
      ]
     },
     "execution_count": 10,
     "metadata": {},
     "output_type": "execute_result"
    }
   ],
   "source": [
    "df = pd.read_csv('themes_raw.csv')\n",
    "df"
   ]
  },
  {
   "cell_type": "code",
   "execution_count": 11,
   "metadata": {
    "colab": {
     "base_uri": "https://localhost:8080/",
     "height": 419
    },
    "id": "qndQ8Wxk3iXt",
    "outputId": "e5652746-0b5a-4873-fbd9-930c2ef0025f"
   },
   "outputs": [
    {
     "data": {
      "text/html": [
       "<div>\n",
       "<style scoped>\n",
       "    .dataframe tbody tr th:only-of-type {\n",
       "        vertical-align: middle;\n",
       "    }\n",
       "\n",
       "    .dataframe tbody tr th {\n",
       "        vertical-align: top;\n",
       "    }\n",
       "\n",
       "    .dataframe thead th {\n",
       "        text-align: right;\n",
       "    }\n",
       "</style>\n",
       "<table border=\"1\" class=\"dataframe\">\n",
       "  <thead>\n",
       "    <tr style=\"text-align: right;\">\n",
       "      <th></th>\n",
       "      <th>ID</th>\n",
       "      <th>OwnerID</th>\n",
       "      <th>Date</th>\n",
       "      <th>Text</th>\n",
       "    </tr>\n",
       "  </thead>\n",
       "  <tbody>\n",
       "    <tr>\n",
       "      <th>0</th>\n",
       "      <td>115862</td>\n",
       "      <td>-58804998</td>\n",
       "      <td>1614801537</td>\n",
       "      <td>Ах вот что это. Анон</td>\n",
       "    </tr>\n",
       "    <tr>\n",
       "      <th>1</th>\n",
       "      <td>115861</td>\n",
       "      <td>-58804998</td>\n",
       "      <td>1614801526</td>\n",
       "      <td>Есть фото общежития внутри из Люблино?</td>\n",
       "    </tr>\n",
       "    <tr>\n",
       "      <th>2</th>\n",
       "      <td>115860</td>\n",
       "      <td>-58804998</td>\n",
       "      <td>1614801505</td>\n",
       "      <td>У 1 или 2 курса будет обязательная производств...</td>\n",
       "    </tr>\n",
       "    <tr>\n",
       "      <th>3</th>\n",
       "      <td>115850</td>\n",
       "      <td>-58804998</td>\n",
       "      <td>1614755304</td>\n",
       "      <td>Потеряла пропуск на имя Марии Бурлаковой.\\nНап...</td>\n",
       "    </tr>\n",
       "    <tr>\n",
       "      <th>4</th>\n",
       "      <td>115840</td>\n",
       "      <td>-58804998</td>\n",
       "      <td>1614603396</td>\n",
       "      <td>Анон\\nИщу старост групп ИДБ-20-01,02,03,04</td>\n",
       "    </tr>\n",
       "    <tr>\n",
       "      <th>...</th>\n",
       "      <td>...</td>\n",
       "      <td>...</td>\n",
       "      <td>...</td>\n",
       "      <td>...</td>\n",
       "    </tr>\n",
       "    <tr>\n",
       "      <th>14151</th>\n",
       "      <td>17</td>\n",
       "      <td>-58804998</td>\n",
       "      <td>1380041274</td>\n",
       "      <td>Это особенность такая у студентов технических ...</td>\n",
       "    </tr>\n",
       "    <tr>\n",
       "      <th>14152</th>\n",
       "      <td>15</td>\n",
       "      <td>-58804998</td>\n",
       "      <td>1380041060</td>\n",
       "      <td>Другу понравилась наша староста, но она помойм...</td>\n",
       "    </tr>\n",
       "    <tr>\n",
       "      <th>14153</th>\n",
       "      <td>10</td>\n",
       "      <td>-58804998</td>\n",
       "      <td>1380037340</td>\n",
       "      <td>Позитивно:)</td>\n",
       "    </tr>\n",
       "    <tr>\n",
       "      <th>14154</th>\n",
       "      <td>7</td>\n",
       "      <td>-58804998</td>\n",
       "      <td>1380036426</td>\n",
       "      <td>Меня очень удивило, как перваки сегодня стоят ...</td>\n",
       "    </tr>\n",
       "    <tr>\n",
       "      <th>14155</th>\n",
       "      <td>4</td>\n",
       "      <td>-58804998</td>\n",
       "      <td>1379961244</td>\n",
       "      <td>я сижу уже какой год в аудитории и незнаю как ...</td>\n",
       "    </tr>\n",
       "  </tbody>\n",
       "</table>\n",
       "<p>14156 rows × 4 columns</p>\n",
       "</div>"
      ],
      "text/plain": [
       "           ID    OwnerID        Date  \\\n",
       "0      115862  -58804998  1614801537   \n",
       "1      115861  -58804998  1614801526   \n",
       "2      115860  -58804998  1614801505   \n",
       "3      115850  -58804998  1614755304   \n",
       "4      115840  -58804998  1614603396   \n",
       "...       ...        ...         ...   \n",
       "14151      17  -58804998  1380041274   \n",
       "14152      15  -58804998  1380041060   \n",
       "14153      10  -58804998  1380037340   \n",
       "14154       7  -58804998  1380036426   \n",
       "14155       4  -58804998  1379961244   \n",
       "\n",
       "                                                    Text  \n",
       "0                                   Ах вот что это. Анон  \n",
       "1                 Есть фото общежития внутри из Люблино?  \n",
       "2      У 1 или 2 курса будет обязательная производств...  \n",
       "3      Потеряла пропуск на имя Марии Бурлаковой.\\nНап...  \n",
       "4             Анон\\nИщу старост групп ИДБ-20-01,02,03,04  \n",
       "...                                                  ...  \n",
       "14151  Это особенность такая у студентов технических ...  \n",
       "14152  Другу понравилась наша староста, но она помойм...  \n",
       "14153                                        Позитивно:)  \n",
       "14154  Меня очень удивило, как перваки сегодня стоят ...  \n",
       "14155  я сижу уже какой год в аудитории и незнаю как ...  \n",
       "\n",
       "[14156 rows x 4 columns]"
      ]
     },
     "execution_count": 11,
     "metadata": {},
     "output_type": "execute_result"
    }
   ],
   "source": [
    "df = df.drop('Unnamed: 0', axis=1)\n",
    "df"
   ]
  },
  {
   "cell_type": "markdown",
   "metadata": {
    "id": "GH1jCxpO4AJg"
   },
   "source": [
    "### Анализ датафрейма по колонке ID"
   ]
  },
  {
   "cell_type": "code",
   "execution_count": 12,
   "metadata": {
    "colab": {
     "base_uri": "https://localhost:8080/"
    },
    "id": "eItLAerbxEuS",
    "outputId": "f13616e3-2c5e-4500-bc9c-d97fe56403be"
   },
   "outputs": [
    {
     "data": {
      "text/plain": [
       "count              14156\n",
       "unique             14113\n",
       "top       {\"type\":\"mvk\"}\n",
       "freq                  28\n",
       "Name: ID, dtype: object"
      ]
     },
     "execution_count": 12,
     "metadata": {},
     "output_type": "execute_result"
    }
   ],
   "source": [
    "df['ID'].describe()"
   ]
  },
  {
   "cell_type": "markdown",
   "metadata": {
    "id": "KQb7ECmy4O3c"
   },
   "source": [
    "Каждый ID должен быть уникальным, однако некоторые являются строкой \"{\"type\":\"mvk\"}\", что не соответствует формату"
   ]
  },
  {
   "cell_type": "code",
   "execution_count": 13,
   "metadata": {
    "colab": {
     "base_uri": "https://localhost:8080/",
     "height": 886
    },
    "id": "U8nABAPX0m1f",
    "outputId": "0a9ff3c9-cf0c-462f-b110-083818280fac"
   },
   "outputs": [
    {
     "data": {
      "text/html": [
       "<div>\n",
       "<style scoped>\n",
       "    .dataframe tbody tr th:only-of-type {\n",
       "        vertical-align: middle;\n",
       "    }\n",
       "\n",
       "    .dataframe tbody tr th {\n",
       "        vertical-align: top;\n",
       "    }\n",
       "\n",
       "    .dataframe thead th {\n",
       "        text-align: right;\n",
       "    }\n",
       "</style>\n",
       "<table border=\"1\" class=\"dataframe\">\n",
       "  <thead>\n",
       "    <tr style=\"text-align: right;\">\n",
       "      <th></th>\n",
       "      <th>ID</th>\n",
       "      <th>OwnerID</th>\n",
       "      <th>Date</th>\n",
       "      <th>Text</th>\n",
       "    </tr>\n",
       "  </thead>\n",
       "  <tbody>\n",
       "    <tr>\n",
       "      <th>3935</th>\n",
       "      <td>{\"type\":\"mvk\"}</td>\n",
       "      <td>-58804998</td>\n",
       "      <td>1530047229</td>\n",
       "      <td>День добрый, дамы и господа. Рассматриваю вари...</td>\n",
       "    </tr>\n",
       "    <tr>\n",
       "      <th>5698</th>\n",
       "      <td>{\"type\":\"mvk\"}</td>\n",
       "      <td>-58804998</td>\n",
       "      <td>1503575766</td>\n",
       "      <td>Для заселения в общежитие нужно ли сниматься с...</td>\n",
       "    </tr>\n",
       "    <tr>\n",
       "      <th>8881</th>\n",
       "      <td>{\"type\":\"mvk\"}</td>\n",
       "      <td>-58804998</td>\n",
       "      <td>1449581131</td>\n",
       "      <td>Оставил очки где-то. \\nЧерная оправа, с красны...</td>\n",
       "    </tr>\n",
       "    <tr>\n",
       "      <th>8903</th>\n",
       "      <td>{\"type\":\"mvk\"}</td>\n",
       "      <td>-58804998</td>\n",
       "      <td>1449234292</td>\n",
       "      <td>Примет ли веселко коньяк за защиту лабораторно...</td>\n",
       "    </tr>\n",
       "    <tr>\n",
       "      <th>9992</th>\n",
       "      <td>{\"type\":\"mvk\"}</td>\n",
       "      <td>-58804998</td>\n",
       "      <td>1439489622</td>\n",
       "      <td>Что лучше использовать тетрадки или блоки?(ФЭМ...</td>\n",
       "    </tr>\n",
       "    <tr>\n",
       "      <th>10024</th>\n",
       "      <td>{\"type\":\"mvk\"}</td>\n",
       "      <td>-58804998</td>\n",
       "      <td>1439116385</td>\n",
       "      <td>Группа ИДБ-12-13, откликнитесь пожалуйста комм...</td>\n",
       "    </tr>\n",
       "    <tr>\n",
       "      <th>10933</th>\n",
       "      <td>{\"type\":\"mvk\"}</td>\n",
       "      <td>-58804998</td>\n",
       "      <td>1420546052</td>\n",
       "      <td>ребят, январская стипуха уже от рейтинга завис...</td>\n",
       "    </tr>\n",
       "    <tr>\n",
       "      <th>11001</th>\n",
       "      <td>{\"type\":\"mvk\"}</td>\n",
       "      <td>-58804998</td>\n",
       "      <td>1419407590</td>\n",
       "      <td>Господа, что делать, если не можешь сдать алге...</td>\n",
       "    </tr>\n",
       "    <tr>\n",
       "      <th>11092</th>\n",
       "      <td>{\"type\":\"mvk\"}</td>\n",
       "      <td>-58804998</td>\n",
       "      <td>1418424725</td>\n",
       "      <td>Давайте скинемся на пулю для Лакуниной!\\n_____...</td>\n",
       "    </tr>\n",
       "    <tr>\n",
       "      <th>11130</th>\n",
       "      <td>{\"type\":\"mvk\"}</td>\n",
       "      <td>-58804998</td>\n",
       "      <td>1417973509</td>\n",
       "      <td>Есть у кого-нибудь клетка или аквариум для чер...</td>\n",
       "    </tr>\n",
       "    <tr>\n",
       "      <th>11151</th>\n",
       "      <td>{\"type\":\"mvk\"}</td>\n",
       "      <td>-58804998</td>\n",
       "      <td>1417688919</td>\n",
       "      <td>Есть те, кто хорошо знают матан и кому несложн...</td>\n",
       "    </tr>\n",
       "    <tr>\n",
       "      <th>11953</th>\n",
       "      <td>{\"type\":\"mvk\"}</td>\n",
       "      <td>-58804998</td>\n",
       "      <td>1410458880</td>\n",
       "      <td>есть ли скучающие девушки в 8 общаге?)</td>\n",
       "    </tr>\n",
       "    <tr>\n",
       "      <th>12462</th>\n",
       "      <td>{\"type\":\"mvk\"}</td>\n",
       "      <td>-58804998</td>\n",
       "      <td>1400943800</td>\n",
       "      <td>Станкин, знай! однажды я тебя закончу! и пойду...</td>\n",
       "    </tr>\n",
       "    <tr>\n",
       "      <th>12470</th>\n",
       "      <td>{\"type\":\"mvk\"}</td>\n",
       "      <td>-58804998</td>\n",
       "      <td>1400943566</td>\n",
       "      <td>Сегодня,в районе савка или универа,была утерян...</td>\n",
       "    </tr>\n",
       "    <tr>\n",
       "      <th>12552</th>\n",
       "      <td>{\"type\":\"mvk\"}</td>\n",
       "      <td>-58804998</td>\n",
       "      <td>1399527616</td>\n",
       "      <td>Почти за год обучения в Станкине я не решил НИ...</td>\n",
       "    </tr>\n",
       "    <tr>\n",
       "      <th>12654</th>\n",
       "      <td>{\"type\":\"mvk\"}</td>\n",
       "      <td>-58804998</td>\n",
       "      <td>1398104721</td>\n",
       "      <td>Расскажите люди добрые, как экзамен у Непринце...</td>\n",
       "    </tr>\n",
       "    <tr>\n",
       "      <th>12971</th>\n",
       "      <td>{\"type\":\"mvk\"}</td>\n",
       "      <td>-58804998</td>\n",
       "      <td>1394989581</td>\n",
       "      <td>Всем спасибо за прекрасно проведенные дни ^____^</td>\n",
       "    </tr>\n",
       "    <tr>\n",
       "      <th>12984</th>\n",
       "      <td>{\"type\":\"mvk\"}</td>\n",
       "      <td>-58804998</td>\n",
       "      <td>1394900950</td>\n",
       "      <td>Потерян шарф (платок, кто как понимает) бордов...</td>\n",
       "    </tr>\n",
       "    <tr>\n",
       "      <th>13065</th>\n",
       "      <td>{\"type\":\"mvk\"}</td>\n",
       "      <td>-58804998</td>\n",
       "      <td>1394005820</td>\n",
       "      <td>живу и радуюсь))а чем занимаешься ты??</td>\n",
       "    </tr>\n",
       "    <tr>\n",
       "      <th>13150</th>\n",
       "      <td>{\"type\":\"mvk\"}</td>\n",
       "      <td>-58804998</td>\n",
       "      <td>1393177723</td>\n",
       "      <td>когда стипуха будет?</td>\n",
       "    </tr>\n",
       "    <tr>\n",
       "      <th>13296</th>\n",
       "      <td>{\"type\":\"mvk\"}</td>\n",
       "      <td>-58804998</td>\n",
       "      <td>1391499988</td>\n",
       "      <td>Почитал посты и комменты первокурсников, на ум...</td>\n",
       "    </tr>\n",
       "    <tr>\n",
       "      <th>13381</th>\n",
       "      <td>{\"type\":\"mvk\"}</td>\n",
       "      <td>-58804998</td>\n",
       "      <td>1390507224</td>\n",
       "      <td>кому ещё пересдавать матан 28?</td>\n",
       "    </tr>\n",
       "    <tr>\n",
       "      <th>13419</th>\n",
       "      <td>{\"type\":\"mvk\"}</td>\n",
       "      <td>-58804998</td>\n",
       "      <td>1390240711</td>\n",
       "      <td>Ребята, спасайте. Потерял зарядку от самсунга ...</td>\n",
       "    </tr>\n",
       "    <tr>\n",
       "      <th>13458</th>\n",
       "      <td>{\"type\":\"mvk\"}</td>\n",
       "      <td>-58804998</td>\n",
       "      <td>1389970618</td>\n",
       "      <td>5 курс. сессия из 4х предметов. 2 автомата по ...</td>\n",
       "    </tr>\n",
       "    <tr>\n",
       "      <th>13628</th>\n",
       "      <td>{\"type\":\"mvk\"}</td>\n",
       "      <td>-58804998</td>\n",
       "      <td>1386425472</td>\n",
       "      <td>Почему бы не создать отдельную группу для знак...</td>\n",
       "    </tr>\n",
       "    <tr>\n",
       "      <th>13674</th>\n",
       "      <td>{\"type\":\"mvk\"}</td>\n",
       "      <td>-58804998</td>\n",
       "      <td>1386238329</td>\n",
       "      <td>Когда там начнется партакиада по настольному т...</td>\n",
       "    </tr>\n",
       "    <tr>\n",
       "      <th>13701</th>\n",
       "      <td>{\"type\":\"mvk\"}</td>\n",
       "      <td>-58804998</td>\n",
       "      <td>1386006657</td>\n",
       "      <td>Хоть мы (итс) и проиграли, зато у нас есть Вад...</td>\n",
       "    </tr>\n",
       "    <tr>\n",
       "      <th>13724</th>\n",
       "      <td>{\"type\":\"mvk\"}</td>\n",
       "      <td>-58804998</td>\n",
       "      <td>1385968038</td>\n",
       "      <td>Я живу во 2ой общаге, пару раз видела чувака и...</td>\n",
       "    </tr>\n",
       "  </tbody>\n",
       "</table>\n",
       "</div>"
      ],
      "text/plain": [
       "                   ID    OwnerID        Date  \\\n",
       "3935   {\"type\":\"mvk\"}  -58804998  1530047229   \n",
       "5698   {\"type\":\"mvk\"}  -58804998  1503575766   \n",
       "8881   {\"type\":\"mvk\"}  -58804998  1449581131   \n",
       "8903   {\"type\":\"mvk\"}  -58804998  1449234292   \n",
       "9992   {\"type\":\"mvk\"}  -58804998  1439489622   \n",
       "10024  {\"type\":\"mvk\"}  -58804998  1439116385   \n",
       "10933  {\"type\":\"mvk\"}  -58804998  1420546052   \n",
       "11001  {\"type\":\"mvk\"}  -58804998  1419407590   \n",
       "11092  {\"type\":\"mvk\"}  -58804998  1418424725   \n",
       "11130  {\"type\":\"mvk\"}  -58804998  1417973509   \n",
       "11151  {\"type\":\"mvk\"}  -58804998  1417688919   \n",
       "11953  {\"type\":\"mvk\"}  -58804998  1410458880   \n",
       "12462  {\"type\":\"mvk\"}  -58804998  1400943800   \n",
       "12470  {\"type\":\"mvk\"}  -58804998  1400943566   \n",
       "12552  {\"type\":\"mvk\"}  -58804998  1399527616   \n",
       "12654  {\"type\":\"mvk\"}  -58804998  1398104721   \n",
       "12971  {\"type\":\"mvk\"}  -58804998  1394989581   \n",
       "12984  {\"type\":\"mvk\"}  -58804998  1394900950   \n",
       "13065  {\"type\":\"mvk\"}  -58804998  1394005820   \n",
       "13150  {\"type\":\"mvk\"}  -58804998  1393177723   \n",
       "13296  {\"type\":\"mvk\"}  -58804998  1391499988   \n",
       "13381  {\"type\":\"mvk\"}  -58804998  1390507224   \n",
       "13419  {\"type\":\"mvk\"}  -58804998  1390240711   \n",
       "13458  {\"type\":\"mvk\"}  -58804998  1389970618   \n",
       "13628  {\"type\":\"mvk\"}  -58804998  1386425472   \n",
       "13674  {\"type\":\"mvk\"}  -58804998  1386238329   \n",
       "13701  {\"type\":\"mvk\"}  -58804998  1386006657   \n",
       "13724  {\"type\":\"mvk\"}  -58804998  1385968038   \n",
       "\n",
       "                                                    Text  \n",
       "3935   День добрый, дамы и господа. Рассматриваю вари...  \n",
       "5698   Для заселения в общежитие нужно ли сниматься с...  \n",
       "8881   Оставил очки где-то. \\nЧерная оправа, с красны...  \n",
       "8903   Примет ли веселко коньяк за защиту лабораторно...  \n",
       "9992   Что лучше использовать тетрадки или блоки?(ФЭМ...  \n",
       "10024  Группа ИДБ-12-13, откликнитесь пожалуйста комм...  \n",
       "10933  ребят, январская стипуха уже от рейтинга завис...  \n",
       "11001  Господа, что делать, если не можешь сдать алге...  \n",
       "11092  Давайте скинемся на пулю для Лакуниной!\\n_____...  \n",
       "11130  Есть у кого-нибудь клетка или аквариум для чер...  \n",
       "11151  Есть те, кто хорошо знают матан и кому несложн...  \n",
       "11953             есть ли скучающие девушки в 8 общаге?)  \n",
       "12462  Станкин, знай! однажды я тебя закончу! и пойду...  \n",
       "12470  Сегодня,в районе савка или универа,была утерян...  \n",
       "12552  Почти за год обучения в Станкине я не решил НИ...  \n",
       "12654  Расскажите люди добрые, как экзамен у Непринце...  \n",
       "12971   Всем спасибо за прекрасно проведенные дни ^____^  \n",
       "12984  Потерян шарф (платок, кто как понимает) бордов...  \n",
       "13065             живу и радуюсь))а чем занимаешься ты??  \n",
       "13150                               когда стипуха будет?  \n",
       "13296  Почитал посты и комменты первокурсников, на ум...  \n",
       "13381                     кому ещё пересдавать матан 28?  \n",
       "13419  Ребята, спасайте. Потерял зарядку от самсунга ...  \n",
       "13458  5 курс. сессия из 4х предметов. 2 автомата по ...  \n",
       "13628  Почему бы не создать отдельную группу для знак...  \n",
       "13674  Когда там начнется партакиада по настольному т...  \n",
       "13701  Хоть мы (итс) и проиграли, зато у нас есть Вад...  \n",
       "13724  Я живу во 2ой общаге, пару раз видела чувака и...  "
      ]
     },
     "execution_count": 13,
     "metadata": {},
     "output_type": "execute_result"
    }
   ],
   "source": [
    "df[df['ID'] == '{\"type\":\"mvk\"}']"
   ]
  },
  {
   "cell_type": "markdown",
   "metadata": {
    "id": "UzFcFyVI4u2X"
   },
   "source": [
    "Удаляем строки с найденными индексами"
   ]
  },
  {
   "cell_type": "code",
   "execution_count": 14,
   "metadata": {
    "colab": {
     "base_uri": "https://localhost:8080/"
    },
    "id": "6GUClL6fxyQZ",
    "outputId": "dbe59191-864a-4ef8-afde-507c124db3ae"
   },
   "outputs": [
    {
     "data": {
      "text/plain": [
       "count             14128\n",
       "unique            14112\n",
       "top       {\"type\":\"api\"\n",
       "freq                  9\n",
       "Name: ID, dtype: object"
      ]
     },
     "execution_count": 14,
     "metadata": {},
     "output_type": "execute_result"
    }
   ],
   "source": [
    "index_list_to_del = df.index[df['ID'] == '{\"type\":\"mvk\"}'].tolist() # строки для удаления с неправильным ID темы\n",
    "df = df.drop(index_list_to_del)\n",
    "df['ID'].describe()"
   ]
  },
  {
   "cell_type": "markdown",
   "metadata": {
    "id": "6r0NkC5q5odh"
   },
   "source": [
    "Удаляем следующие строки с неправильным форматом ID"
   ]
  },
  {
   "cell_type": "code",
   "execution_count": 15,
   "metadata": {
    "colab": {
     "base_uri": "https://localhost:8080/"
    },
    "id": "VFLP4xjI5yOs",
    "outputId": "6c6f2473-860a-4356-fca2-f3ac1ecbdc67"
   },
   "outputs": [
    {
     "data": {
      "text/plain": [
       "count             14119\n",
       "unique            14111\n",
       "top       {\"type\":\"vk\"}\n",
       "freq                  9\n",
       "Name: ID, dtype: object"
      ]
     },
     "execution_count": 15,
     "metadata": {},
     "output_type": "execute_result"
    }
   ],
   "source": [
    "index_list_to_del = df.index[df['ID'] == '{\"type\":\"api\"'].tolist() # строки для удаления с неправильным ID темы\n",
    "df = df.drop(index_list_to_del)\n",
    "df['ID'].describe()"
   ]
  },
  {
   "cell_type": "code",
   "execution_count": 16,
   "metadata": {
    "colab": {
     "base_uri": "https://localhost:8080/"
    },
    "id": "HsFwNIiN6mKX",
    "outputId": "db50b9ef-29cd-422b-f6cf-aa997c5cd7b1"
   },
   "outputs": [
    {
     "data": {
      "text/plain": [
       "count     14110\n",
       "unique    14110\n",
       "top       21344\n",
       "freq          1\n",
       "Name: ID, dtype: object"
      ]
     },
     "execution_count": 16,
     "metadata": {},
     "output_type": "execute_result"
    }
   ],
   "source": [
    "index_list_to_del = df.index[df['ID'] == '{\"type\":\"vk\"}'].tolist() # строки для удаления с неправильным ID темы\n",
    "df = df.drop(index_list_to_del)\n",
    "df['ID'].describe()"
   ]
  },
  {
   "cell_type": "markdown",
   "metadata": {
    "id": "lTYQ8LWU6teJ"
   },
   "source": [
    "Теперь все ID являются уникальными, значит удаление лишних строк по колонке ID завершена"
   ]
  },
  {
   "cell_type": "markdown",
   "metadata": {
    "id": "mYggXBEX8Xc5"
   },
   "source": [
    "### Анализ датафрейма по колонке OwnerID"
   ]
  },
  {
   "cell_type": "code",
   "execution_count": 17,
   "metadata": {
    "colab": {
     "base_uri": "https://localhost:8080/"
    },
    "id": "zJpoDGP68dXx",
    "outputId": "8945ba83-a538-4835-cac8-0880f0587f24"
   },
   "outputs": [
    {
     "data": {
      "text/plain": [
       "count         14110\n",
       "unique            4\n",
       "top       -58804998\n",
       "freq          14105\n",
       "Name: OwnerID, dtype: object"
      ]
     },
     "execution_count": 17,
     "metadata": {},
     "output_type": "execute_result"
    }
   ],
   "source": [
    "df['OwnerID'].describe()"
   ]
  },
  {
   "cell_type": "code",
   "execution_count": 18,
   "metadata": {
    "colab": {
     "base_uri": "https://localhost:8080/",
     "height": 204
    },
    "id": "cTnZkqpf8jK7",
    "outputId": "ae4e7a50-b0bf-4bc7-9544-b2dcda18ba95"
   },
   "outputs": [
    {
     "data": {
      "text/html": [
       "<div>\n",
       "<style scoped>\n",
       "    .dataframe tbody tr th:only-of-type {\n",
       "        vertical-align: middle;\n",
       "    }\n",
       "\n",
       "    .dataframe tbody tr th {\n",
       "        vertical-align: top;\n",
       "    }\n",
       "\n",
       "    .dataframe thead th {\n",
       "        text-align: right;\n",
       "    }\n",
       "</style>\n",
       "<table border=\"1\" class=\"dataframe\">\n",
       "  <thead>\n",
       "    <tr style=\"text-align: right;\">\n",
       "      <th></th>\n",
       "      <th>ID</th>\n",
       "      <th>OwnerID</th>\n",
       "      <th>Date</th>\n",
       "      <th>Text</th>\n",
       "    </tr>\n",
       "  </thead>\n",
       "  <tbody>\n",
       "    <tr>\n",
       "      <th>170</th>\n",
       "      <td>[{\"id\":166</td>\n",
       "      <td>-143144642,\"from_id\":-143144642</td>\n",
       "      <td>1603735207</td>\n",
       "      <td>29 октября в МГТУ \\\"СТАНКИН\\\" состоятся открыт...</td>\n",
       "    </tr>\n",
       "    <tr>\n",
       "      <th>2674</th>\n",
       "      <td>[{\"id\":944</td>\n",
       "      <td>-88941246,\"from_id\":-88941246</td>\n",
       "      <td>1547834958</td>\n",
       "      <td>❗️❕Внимание❕❗️\\n🚗Набор в автошколу! 🚗\\n🚗🏍Катег...</td>\n",
       "    </tr>\n",
       "    <tr>\n",
       "      <th>3682</th>\n",
       "      <td>[{\"id\":4868</td>\n",
       "      <td>-122997027,\"from_id\":-122997027</td>\n",
       "      <td>1533744999</td>\n",
       "      <td>NaN</td>\n",
       "    </tr>\n",
       "    <tr>\n",
       "      <th>4257</th>\n",
       "      <td>[{\"id\":3388</td>\n",
       "      <td>-122997027,\"from_id\":-122997027</td>\n",
       "      <td>1522010001</td>\n",
       "      <td>анон</td>\n",
       "    </tr>\n",
       "    <tr>\n",
       "      <th>5363</th>\n",
       "      <td>[{\"id\":892</td>\n",
       "      <td>-122997027,\"from_id\":-122997027</td>\n",
       "      <td>1506156720</td>\n",
       "      <td>Отряд самоубийц</td>\n",
       "    </tr>\n",
       "  </tbody>\n",
       "</table>\n",
       "</div>"
      ],
      "text/plain": [
       "               ID                          OwnerID        Date  \\\n",
       "170    [{\"id\":166  -143144642,\"from_id\":-143144642  1603735207   \n",
       "2674   [{\"id\":944    -88941246,\"from_id\":-88941246  1547834958   \n",
       "3682  [{\"id\":4868  -122997027,\"from_id\":-122997027  1533744999   \n",
       "4257  [{\"id\":3388  -122997027,\"from_id\":-122997027  1522010001   \n",
       "5363   [{\"id\":892  -122997027,\"from_id\":-122997027  1506156720   \n",
       "\n",
       "                                                   Text  \n",
       "170   29 октября в МГТУ \\\"СТАНКИН\\\" состоятся открыт...  \n",
       "2674  ❗️❕Внимание❕❗️\\n🚗Набор в автошколу! 🚗\\n🚗🏍Катег...  \n",
       "3682                                                NaN  \n",
       "4257                                               анон  \n",
       "5363                                    Отряд самоубийц  "
      ]
     },
     "execution_count": 18,
     "metadata": {},
     "output_type": "execute_result"
    }
   ],
   "source": [
    "df[df['OwnerID'] != '-58804998']"
   ]
  },
  {
   "cell_type": "markdown",
   "metadata": {
    "id": "EUGtXHFi9ZSe"
   },
   "source": [
    "Темы, которые публиковались другими пользователями также имеют немного неправильный ID (которые можно поправить), но для простоты дальнейшей работы эти записи стоит удалить"
   ]
  },
  {
   "cell_type": "code",
   "execution_count": 19,
   "metadata": {
    "colab": {
     "base_uri": "https://localhost:8080/"
    },
    "id": "YlAeYXf39sTf",
    "outputId": "3690308a-e4d5-4518-b0d5-4683d4a1bcb3"
   },
   "outputs": [
    {
     "data": {
      "text/plain": [
       "count         14105\n",
       "unique            1\n",
       "top       -58804998\n",
       "freq          14105\n",
       "Name: OwnerID, dtype: object"
      ]
     },
     "execution_count": 19,
     "metadata": {},
     "output_type": "execute_result"
    }
   ],
   "source": [
    "index_list_to_del = df.index[df['OwnerID'] != '-58804998'].tolist() # строки для удаления с неправильным ID темы\n",
    "df = df.drop(index_list_to_del)\n",
    "df['OwnerID'].describe()"
   ]
  },
  {
   "cell_type": "markdown",
   "metadata": {
    "id": "IWPKKPpa-JMS"
   },
   "source": [
    "Существует всего одно уникальное значение OwnerID, значит удаление лишних строк по колонке OwnerID завершена"
   ]
  },
  {
   "cell_type": "markdown",
   "metadata": {
    "id": "UbKb_BiGHRUT"
   },
   "source": [
    "### Проверка на оставшиеся строчки, содержащие неверные форматы в колонках"
   ]
  },
  {
   "cell_type": "markdown",
   "metadata": {
    "id": "GcKFOYXNIOX7"
   },
   "source": [
    "Проверим типы данных колонок в датафрейме"
   ]
  },
  {
   "cell_type": "code",
   "execution_count": 20,
   "metadata": {
    "colab": {
     "base_uri": "https://localhost:8080/"
    },
    "id": "mJU3fJZPHc_9",
    "outputId": "238aebf0-e635-4b0e-95a8-829dc2da09f0"
   },
   "outputs": [
    {
     "data": {
      "text/plain": [
       "ID         object\n",
       "OwnerID    object\n",
       "Date        int64\n",
       "Text       object\n",
       "dtype: object"
      ]
     },
     "execution_count": 20,
     "metadata": {},
     "output_type": "execute_result"
    }
   ],
   "source": [
    "df.dtypes"
   ]
  },
  {
   "cell_type": "markdown",
   "metadata": {
    "id": "fcnxBJs2Hsw1"
   },
   "source": [
    "Колонки ID и OwnerID не являются числовыми данными, исправим это"
   ]
  },
  {
   "cell_type": "code",
   "execution_count": 21,
   "metadata": {
    "colab": {
     "base_uri": "https://localhost:8080/"
    },
    "id": "5nR4vPogHf92",
    "outputId": "3180d963-e399-45d1-e277-53770f3e609e"
   },
   "outputs": [
    {
     "data": {
      "text/plain": [
       "ID          int64\n",
       "OwnerID     int64\n",
       "Date        int64\n",
       "Text       object\n",
       "dtype: object"
      ]
     },
     "execution_count": 21,
     "metadata": {},
     "output_type": "execute_result"
    }
   ],
   "source": [
    "df['ID'] = pd.to_numeric(df['ID'])\n",
    "df['OwnerID'] = pd.to_numeric(df['OwnerID'])\n",
    "df.dtypes"
   ]
  },
  {
   "cell_type": "markdown",
   "metadata": {
    "id": "Y-cID-qAIAPF"
   },
   "source": [
    "Все необходимые колоники имеют верный формат, а значит правильное содержимое (согласно анализу и приведение к формату int без ошибок)"
   ]
  },
  {
   "cell_type": "markdown",
   "metadata": {
    "id": "EwpdsLzyNL2B"
   },
   "source": [
    "### Анализ текстов тем обсуждений"
   ]
  },
  {
   "cell_type": "code",
   "execution_count": 22,
   "metadata": {
    "id": "Qz_p4ZjoQsz4"
   },
   "outputs": [],
   "source": [
    "df.dropna(inplace=True) # удаляем все строки, в которых пропущены значения\n",
    "df = df.reset_index(drop=True) # делаем переиндексацию после удаленных строк"
   ]
  },
  {
   "cell_type": "markdown",
   "metadata": {
    "id": "BRuh8-cVbPzA"
   },
   "source": [
    "Функция для поиска индексов слов с количеством пробелов j в датафрейме df"
   ]
  },
  {
   "cell_type": "code",
   "execution_count": 23,
   "metadata": {
    "id": "pERRw2dlUT_b"
   },
   "outputs": [],
   "source": [
    "def space_count(j, df):\n",
    "    i = 0\n",
    "    l = []\n",
    "    while i < len(df):\n",
    "        if df.loc[i, 'Text'].count(' ') <= j:\n",
    "            l.append(i)\n",
    "        i += 1\n",
    "    return l"
   ]
  },
  {
   "cell_type": "code",
   "execution_count": 24,
   "metadata": {
    "colab": {
     "base_uri": "https://localhost:8080/",
     "height": 1000
    },
    "id": "N493Yr_uN0qW",
    "outputId": "f66e37eb-1ccc-44f3-efce-71f26f8e6d1b"
   },
   "outputs": [
    {
     "data": {
      "text/html": [
       "<div>\n",
       "<style scoped>\n",
       "    .dataframe tbody tr th:only-of-type {\n",
       "        vertical-align: middle;\n",
       "    }\n",
       "\n",
       "    .dataframe tbody tr th {\n",
       "        vertical-align: top;\n",
       "    }\n",
       "\n",
       "    .dataframe thead th {\n",
       "        text-align: right;\n",
       "    }\n",
       "</style>\n",
       "<table border=\"1\" class=\"dataframe\">\n",
       "  <thead>\n",
       "    <tr style=\"text-align: right;\">\n",
       "      <th></th>\n",
       "      <th>ID</th>\n",
       "      <th>OwnerID</th>\n",
       "      <th>Date</th>\n",
       "      <th>Text</th>\n",
       "    </tr>\n",
       "  </thead>\n",
       "  <tbody>\n",
       "    <tr>\n",
       "      <th>7</th>\n",
       "      <td>115812</td>\n",
       "      <td>-58804998</td>\n",
       "      <td>1614372815</td>\n",
       "      <td>анон</td>\n",
       "    </tr>\n",
       "    <tr>\n",
       "      <th>506</th>\n",
       "      <td>111820</td>\n",
       "      <td>-58804998</td>\n",
       "      <td>1596287463</td>\n",
       "      <td>Разделение</td>\n",
       "    </tr>\n",
       "    <tr>\n",
       "      <th>682</th>\n",
       "      <td>110469</td>\n",
       "      <td>-58804998</td>\n",
       "      <td>1584470227</td>\n",
       "      <td>гвоздкова</td>\n",
       "    </tr>\n",
       "    <tr>\n",
       "      <th>768</th>\n",
       "      <td>109925</td>\n",
       "      <td>-58804998</td>\n",
       "      <td>1581944412</td>\n",
       "      <td>Зачем?</td>\n",
       "    </tr>\n",
       "    <tr>\n",
       "      <th>1053</th>\n",
       "      <td>108298</td>\n",
       "      <td>-58804998</td>\n",
       "      <td>1575033095</td>\n",
       "      <td>Wtf?!</td>\n",
       "    </tr>\n",
       "    <tr>\n",
       "      <th>...</th>\n",
       "      <td>...</td>\n",
       "      <td>...</td>\n",
       "      <td>...</td>\n",
       "      <td>...</td>\n",
       "    </tr>\n",
       "    <tr>\n",
       "      <th>12516</th>\n",
       "      <td>12595</td>\n",
       "      <td>-58804998</td>\n",
       "      <td>1397850776</td>\n",
       "      <td>доставляет)</td>\n",
       "    </tr>\n",
       "    <tr>\n",
       "      <th>12610</th>\n",
       "      <td>11738</td>\n",
       "      <td>-58804998</td>\n",
       "      <td>1396866886</td>\n",
       "      <td>Ждём?</td>\n",
       "    </tr>\n",
       "    <tr>\n",
       "      <th>12857</th>\n",
       "      <td>9738</td>\n",
       "      <td>-58804998</td>\n",
       "      <td>1394427937</td>\n",
       "      <td>[id163198870|МАААААААААААКС!]</td>\n",
       "    </tr>\n",
       "    <tr>\n",
       "      <th>12977</th>\n",
       "      <td>8568</td>\n",
       "      <td>-58804998</td>\n",
       "      <td>1393149550</td>\n",
       "      <td>Норм👍</td>\n",
       "    </tr>\n",
       "    <tr>\n",
       "      <th>13960</th>\n",
       "      <td>10</td>\n",
       "      <td>-58804998</td>\n",
       "      <td>1380037340</td>\n",
       "      <td>Позитивно:)</td>\n",
       "    </tr>\n",
       "  </tbody>\n",
       "</table>\n",
       "<p>61 rows × 4 columns</p>\n",
       "</div>"
      ],
      "text/plain": [
       "           ID   OwnerID        Date                           Text\n",
       "7      115812 -58804998  1614372815                           анон\n",
       "506    111820 -58804998  1596287463                     Разделение\n",
       "682    110469 -58804998  1584470227                      гвоздкова\n",
       "768    109925 -58804998  1581944412                         Зачем?\n",
       "1053   108298 -58804998  1575033095                          Wtf?!\n",
       "...       ...       ...         ...                            ...\n",
       "12516   12595 -58804998  1397850776                    доставляет)\n",
       "12610   11738 -58804998  1396866886                          Ждём?\n",
       "12857    9738 -58804998  1394427937  [id163198870|МАААААААААААКС!]\n",
       "12977    8568 -58804998  1393149550                          Норм👍\n",
       "13960      10 -58804998  1380037340                    Позитивно:)\n",
       "\n",
       "[61 rows x 4 columns]"
      ]
     },
     "execution_count": 24,
     "metadata": {},
     "output_type": "execute_result"
    }
   ],
   "source": [
    "l = space_count(0, df) # без пробелов\n",
    "df.loc[l]"
   ]
  },
  {
   "cell_type": "code",
   "execution_count": 25,
   "metadata": {
    "colab": {
     "base_uri": "https://localhost:8080/",
     "height": 419
    },
    "id": "WbSv0AAFWEEA",
    "outputId": "f21a13b5-0467-44b0-f19f-4e2c4cf4440e"
   },
   "outputs": [
    {
     "data": {
      "text/html": [
       "<div>\n",
       "<style scoped>\n",
       "    .dataframe tbody tr th:only-of-type {\n",
       "        vertical-align: middle;\n",
       "    }\n",
       "\n",
       "    .dataframe tbody tr th {\n",
       "        vertical-align: top;\n",
       "    }\n",
       "\n",
       "    .dataframe thead th {\n",
       "        text-align: right;\n",
       "    }\n",
       "</style>\n",
       "<table border=\"1\" class=\"dataframe\">\n",
       "  <thead>\n",
       "    <tr style=\"text-align: right;\">\n",
       "      <th></th>\n",
       "      <th>ID</th>\n",
       "      <th>OwnerID</th>\n",
       "      <th>Date</th>\n",
       "      <th>Text</th>\n",
       "    </tr>\n",
       "  </thead>\n",
       "  <tbody>\n",
       "    <tr>\n",
       "      <th>7</th>\n",
       "      <td>115812</td>\n",
       "      <td>-58804998</td>\n",
       "      <td>1614372815</td>\n",
       "      <td>анон</td>\n",
       "    </tr>\n",
       "    <tr>\n",
       "      <th>13</th>\n",
       "      <td>115756</td>\n",
       "      <td>-58804998</td>\n",
       "      <td>1613842126</td>\n",
       "      <td>Долой интернетушку?</td>\n",
       "    </tr>\n",
       "    <tr>\n",
       "      <th>47</th>\n",
       "      <td>115512</td>\n",
       "      <td>-58804998</td>\n",
       "      <td>1612511163</td>\n",
       "      <td>Тамази, F</td>\n",
       "    </tr>\n",
       "    <tr>\n",
       "      <th>228</th>\n",
       "      <td>114082</td>\n",
       "      <td>-58804998</td>\n",
       "      <td>1601726304</td>\n",
       "      <td>Потеряны наушники</td>\n",
       "    </tr>\n",
       "    <tr>\n",
       "      <th>265</th>\n",
       "      <td>113822</td>\n",
       "      <td>-58804998</td>\n",
       "      <td>1601055429</td>\n",
       "      <td>Чьё добро?</td>\n",
       "    </tr>\n",
       "    <tr>\n",
       "      <th>...</th>\n",
       "      <td>...</td>\n",
       "      <td>...</td>\n",
       "      <td>...</td>\n",
       "      <td>...</td>\n",
       "    </tr>\n",
       "    <tr>\n",
       "      <th>13094</th>\n",
       "      <td>7462</td>\n",
       "      <td>-58804998</td>\n",
       "      <td>1391795251</td>\n",
       "      <td>Увидел расписание.</td>\n",
       "    </tr>\n",
       "    <tr>\n",
       "      <th>13099</th>\n",
       "      <td>7436</td>\n",
       "      <td>-58804998</td>\n",
       "      <td>1391789284</td>\n",
       "      <td>О наболевшем</td>\n",
       "    </tr>\n",
       "    <tr>\n",
       "      <th>13545</th>\n",
       "      <td>3805</td>\n",
       "      <td>-58804998</td>\n",
       "      <td>1385934032</td>\n",
       "      <td>http:\\/\\/vk.com\\/fuck_humor?z=photo-12382740_3...</td>\n",
       "    </tr>\n",
       "    <tr>\n",
       "      <th>13785</th>\n",
       "      <td>1365</td>\n",
       "      <td>-58804998</td>\n",
       "      <td>1383603902</td>\n",
       "      <td>Заебали бухать.</td>\n",
       "    </tr>\n",
       "    <tr>\n",
       "      <th>13960</th>\n",
       "      <td>10</td>\n",
       "      <td>-58804998</td>\n",
       "      <td>1380037340</td>\n",
       "      <td>Позитивно:)</td>\n",
       "    </tr>\n",
       "  </tbody>\n",
       "</table>\n",
       "<p>159 rows × 4 columns</p>\n",
       "</div>"
      ],
      "text/plain": [
       "           ID   OwnerID        Date  \\\n",
       "7      115812 -58804998  1614372815   \n",
       "13     115756 -58804998  1613842126   \n",
       "47     115512 -58804998  1612511163   \n",
       "228    114082 -58804998  1601726304   \n",
       "265    113822 -58804998  1601055429   \n",
       "...       ...       ...         ...   \n",
       "13094    7462 -58804998  1391795251   \n",
       "13099    7436 -58804998  1391789284   \n",
       "13545    3805 -58804998  1385934032   \n",
       "13785    1365 -58804998  1383603902   \n",
       "13960      10 -58804998  1380037340   \n",
       "\n",
       "                                                    Text  \n",
       "7                                                   анон  \n",
       "13                                   Долой интернетушку?  \n",
       "47                                             Тамази, F  \n",
       "228                                    Потеряны наушники  \n",
       "265                                           Чьё добро?  \n",
       "...                                                  ...  \n",
       "13094                                 Увидел расписание.  \n",
       "13099                                       О наболевшем  \n",
       "13545  http:\\/\\/vk.com\\/fuck_humor?z=photo-12382740_3...  \n",
       "13785                                    Заебали бухать.  \n",
       "13960                                        Позитивно:)  \n",
       "\n",
       "[159 rows x 4 columns]"
      ]
     },
     "execution_count": 25,
     "metadata": {},
     "output_type": "execute_result"
    }
   ],
   "source": [
    "l = space_count(1, df) # один пробел\n",
    "df.loc[l]"
   ]
  },
  {
   "cell_type": "code",
   "execution_count": 26,
   "metadata": {
    "colab": {
     "base_uri": "https://localhost:8080/",
     "height": 419
    },
    "id": "6C4_zs-1WJXY",
    "outputId": "5331a172-b8e0-4279-8a2a-ec4da80f4daf"
   },
   "outputs": [
    {
     "data": {
      "text/html": [
       "<div>\n",
       "<style scoped>\n",
       "    .dataframe tbody tr th:only-of-type {\n",
       "        vertical-align: middle;\n",
       "    }\n",
       "\n",
       "    .dataframe tbody tr th {\n",
       "        vertical-align: top;\n",
       "    }\n",
       "\n",
       "    .dataframe thead th {\n",
       "        text-align: right;\n",
       "    }\n",
       "</style>\n",
       "<table border=\"1\" class=\"dataframe\">\n",
       "  <thead>\n",
       "    <tr style=\"text-align: right;\">\n",
       "      <th></th>\n",
       "      <th>ID</th>\n",
       "      <th>OwnerID</th>\n",
       "      <th>Date</th>\n",
       "      <th>Text</th>\n",
       "    </tr>\n",
       "  </thead>\n",
       "  <tbody>\n",
       "    <tr>\n",
       "      <th>7</th>\n",
       "      <td>115812</td>\n",
       "      <td>-58804998</td>\n",
       "      <td>1614372815</td>\n",
       "      <td>анон</td>\n",
       "    </tr>\n",
       "    <tr>\n",
       "      <th>13</th>\n",
       "      <td>115756</td>\n",
       "      <td>-58804998</td>\n",
       "      <td>1613842126</td>\n",
       "      <td>Долой интернетушку?</td>\n",
       "    </tr>\n",
       "    <tr>\n",
       "      <th>30</th>\n",
       "      <td>115611</td>\n",
       "      <td>-58804998</td>\n",
       "      <td>1612862998</td>\n",
       "      <td>Ищу старост ИДБ-19-9,10,11</td>\n",
       "    </tr>\n",
       "    <tr>\n",
       "      <th>47</th>\n",
       "      <td>115512</td>\n",
       "      <td>-58804998</td>\n",
       "      <td>1612511163</td>\n",
       "      <td>Тамази, F</td>\n",
       "    </tr>\n",
       "    <tr>\n",
       "      <th>49</th>\n",
       "      <td>115501</td>\n",
       "      <td>-58804998</td>\n",
       "      <td>1612454897</td>\n",
       "      <td>Завтра работает библиотека?\\nАнон</td>\n",
       "    </tr>\n",
       "    <tr>\n",
       "      <th>...</th>\n",
       "      <td>...</td>\n",
       "      <td>...</td>\n",
       "      <td>...</td>\n",
       "      <td>...</td>\n",
       "    </tr>\n",
       "    <tr>\n",
       "      <th>13661</th>\n",
       "      <td>2735</td>\n",
       "      <td>-58804998</td>\n",
       "      <td>1384966045</td>\n",
       "      <td>почему Феофан бухает?</td>\n",
       "    </tr>\n",
       "    <tr>\n",
       "      <th>13768</th>\n",
       "      <td>1463</td>\n",
       "      <td>-58804998</td>\n",
       "      <td>1383738367</td>\n",
       "      <td>Елькин круче В.Б.,извините)</td>\n",
       "    </tr>\n",
       "    <tr>\n",
       "      <th>13785</th>\n",
       "      <td>1365</td>\n",
       "      <td>-58804998</td>\n",
       "      <td>1383603902</td>\n",
       "      <td>Заебали бухать.</td>\n",
       "    </tr>\n",
       "    <tr>\n",
       "      <th>13837</th>\n",
       "      <td>797</td>\n",
       "      <td>-58804998</td>\n",
       "      <td>1382567401</td>\n",
       "      <td>кто такой Носовицкий?</td>\n",
       "    </tr>\n",
       "    <tr>\n",
       "      <th>13960</th>\n",
       "      <td>10</td>\n",
       "      <td>-58804998</td>\n",
       "      <td>1380037340</td>\n",
       "      <td>Позитивно:)</td>\n",
       "    </tr>\n",
       "  </tbody>\n",
       "</table>\n",
       "<p>376 rows × 4 columns</p>\n",
       "</div>"
      ],
      "text/plain": [
       "           ID   OwnerID        Date                               Text\n",
       "7      115812 -58804998  1614372815                               анон\n",
       "13     115756 -58804998  1613842126                Долой интернетушку?\n",
       "30     115611 -58804998  1612862998         Ищу старост ИДБ-19-9,10,11\n",
       "47     115512 -58804998  1612511163                          Тамази, F\n",
       "49     115501 -58804998  1612454897  Завтра работает библиотека?\\nАнон\n",
       "...       ...       ...         ...                                ...\n",
       "13661    2735 -58804998  1384966045              почему Феофан бухает?\n",
       "13768    1463 -58804998  1383738367        Елькин круче В.Б.,извините)\n",
       "13785    1365 -58804998  1383603902                    Заебали бухать.\n",
       "13837     797 -58804998  1382567401              кто такой Носовицкий?\n",
       "13960      10 -58804998  1380037340                        Позитивно:)\n",
       "\n",
       "[376 rows x 4 columns]"
      ]
     },
     "execution_count": 26,
     "metadata": {},
     "output_type": "execute_result"
    }
   ],
   "source": [
    "l = space_count(2, df) # два пробела\n",
    "df.loc[l]"
   ]
  },
  {
   "cell_type": "markdown",
   "metadata": {
    "id": "AFWlxAWxYCN3"
   },
   "source": [
    "Удаляем все строки, в которых находятся меньше одного пробела (меньше трех слов), так как они скорее всего содержат медиафайлы или ссылки, по которым не получится оценивать деструктивность темы"
   ]
  },
  {
   "cell_type": "code",
   "execution_count": 27,
   "metadata": {
    "colab": {
     "base_uri": "https://localhost:8080/"
    },
    "id": "giX8tambYQlM",
    "outputId": "abf863a7-ae07-43a6-fd88-a4cd73383816"
   },
   "outputs": [
    {
     "name": "stdout",
     "output_type": "stream",
     "text": [
      "Удалено 220 элементов\n"
     ]
    }
   ],
   "source": [
    "l1 = space_count(0, df)\n",
    "l2 = space_count(1, df)\n",
    "l = l1 + l2\n",
    "df = df.drop(l)\n",
    "print('Удалено', len(l), 'элементов')"
   ]
  },
  {
   "cell_type": "code",
   "execution_count": 28,
   "metadata": {
    "colab": {
     "base_uri": "https://localhost:8080/"
    },
    "id": "OPzVosRydYvv",
    "outputId": "21361761-dc57-44e8-f15a-8f354060a6da"
   },
   "outputs": [
    {
     "name": "stdout",
     "output_type": "stream",
     "text": [
      "В результате предварительной чистки данных удалено 347 тем (2.45% от всех данных)\n"
     ]
    }
   ],
   "source": [
    "print('В результате предварительной чистки данных удалено ', size - len(df), ' тем ', '(', round((size - len(df)) / size * 100, 2), '% от всех данных)', sep='')"
   ]
  },
  {
   "cell_type": "markdown",
   "metadata": {
    "id": "ASYeqFAoZNGl"
   },
   "source": [
    "Записываем датафрейм в файл themes_processed.csv"
   ]
  },
  {
   "cell_type": "code",
   "execution_count": 29,
   "metadata": {
    "id": "CDqlZ9haZUS5"
   },
   "outputs": [],
   "source": [
    "df = df.reset_index(drop=True) # делаем переиндексацию после удаленных строк\n",
    "df.to_csv('themes_processed.csv')"
   ]
  },
  {
   "cell_type": "markdown",
   "metadata": {
    "id": "Z55P4bwgSLI7"
   },
   "source": [
    "## Получаем комментарии для темы обсуждения "
   ]
  },
  {
   "cell_type": "code",
   "execution_count": 30,
   "metadata": {
    "id": "DFPezKOkSLI7"
   },
   "outputs": [],
   "source": [
    "owner_id = -58804998 # id владельца сообщества\n",
    "thread_items_count = 10 # количество ответов к комментарию пользователя (10 максимум)"
   ]
  },
  {
   "cell_type": "markdown",
   "metadata": {
    "id": "AnZa7lQc8GWg"
   },
   "source": [
    "Функция для получения комментариев к посту с id \"post_id\""
   ]
  },
  {
   "cell_type": "code",
   "execution_count": 31,
   "metadata": {
    "id": "4sCFlQAZ496S"
   },
   "outputs": [],
   "source": [
    "link_comments = 'https://api.vk.com/method/wall.getComments?owner_id={0}&post_id={1}&count={2}&thread_items_count={3}&access_token={4}&v={5}'.format(owner_id, 115136, count, thread_items_count, access_token, v)\n",
    "request_comments = requests.get(link_comments)"
   ]
  },
  {
   "cell_type": "code",
   "execution_count": 32,
   "metadata": {
    "id": "aNib7PSq6Ja7"
   },
   "outputs": [],
   "source": [
    "def collecting_comments(post_id, owner_id, count, thread_items_count, access_token, v):\n",
    "    link_comments = 'https://api.vk.com/method/wall.getComments?owner_id={0}&post_id={1}&count={2}&thread_items_count={3}&access_token={4}&v={5}'.format(owner_id, post_id, count, thread_items_count, access_token, v)\n",
    "    request_comments = requests.get(link_comments)\n",
    "    #pattern_number_of_comments = r'\\{\\\"response\\\"\\:\\{\\\"count\\\"\\:(.*?)\\,'\n",
    "    #number_of_comments = int(re.findall(pattern_size, request_comments.text)[0]) # вытаскиваем из результата запроса количество тем\n",
    "    pattern_texts = r'\\\"text\\\"\\:\\\"(.*?)\\\"'\n",
    "    texts = re.findall(pattern_texts, request_comments.text)\n",
    "    l = []\n",
    "    for i in texts:\n",
    "        if i != '':\n",
    "            a = re.sub(r'\\[.*\\|.*\\]\\, ', '', i)\n",
    "            if a.count(' ') >= 1: # добавляем комментарий, если в нем содержится 2 и более слов\n",
    "                l.append(a)\n",
    "    return l"
   ]
  },
  {
   "cell_type": "code",
   "execution_count": 33,
   "metadata": {
    "colab": {
     "base_uri": "https://localhost:8080/"
    },
    "id": "GVnoh7tJ6YNi",
    "outputId": "7d939096-08a3-4024-a5f2-55c1848f67e6"
   },
   "outputs": [
    {
     "data": {
      "text/plain": [
       "['Следующую сессию вовремя закрываешь с общим рейтингом больше 35 и на здоровье.',\n",
       " 'а что делать если последний семестр?',\n",
       " 'если последний, то ещё в июле и августе можно получить стипендию (если остаёшься в нашу магистратуру или если никуда больше поступать не планируешь)',\n",
       " 'понимаю твою боль']"
      ]
     },
     "execution_count": 33,
     "metadata": {},
     "output_type": "execute_result"
    }
   ],
   "source": [
    "collecting_comments(115136, owner_id, count, thread_items_count, access_token, v)"
   ]
  },
  {
   "cell_type": "markdown",
   "metadata": {
    "id": "i4SFS9ZKDXBv"
   },
   "source": [
    "Открываем обработанный файл с темами и добавляем колонку Count_comments, содержащую количество комментариев в теме"
   ]
  },
  {
   "cell_type": "code",
   "execution_count": 34,
   "metadata": {
    "id": "c3YL23EIAuAx"
   },
   "outputs": [],
   "source": [
    "df = pd.read_csv('themes_processed.csv')\n",
    "df = df.drop('Unnamed: 0', axis=1)\n",
    "df['Count_comments'] = 0"
   ]
  },
  {
   "cell_type": "markdown",
   "metadata": {
    "id": "K8OtTML_SHjR"
   },
   "source": [
    "Удалим значения ID, возвращающие ошибку при получении запроса"
   ]
  },
  {
   "cell_type": "code",
   "execution_count": 35,
   "metadata": {
    "id": "HJStvxlzSG6H"
   },
   "outputs": [],
   "source": [
    "index_list_to_del = df.index[df['ID'] > 1000000].tolist() # строки для удаления с неправильным ID темы\n",
    "df = df.drop(index_list_to_del)\n",
    "df = df.reset_index(drop=True) # делаем переиндексацию после удаленных строк"
   ]
  },
  {
   "cell_type": "markdown",
   "metadata": {
    "id": "5OHX2YVLDj4I"
   },
   "source": [
    "Считаем количество комментариев для каждой темы и создаём датафрейм df_comments, содержащий тексты комментариев и id темы, к которым они относятся"
   ]
  },
  {
   "cell_type": "code",
   "execution_count": 36,
   "metadata": {
    "colab": {
     "base_uri": "https://localhost:8080/",
     "height": 0
    },
    "id": "iZ2n3t_c8k3y",
    "outputId": "ad030a6d-eab8-4221-cd43-6b2810fb8383"
   },
   "outputs": [],
   "source": [
    "i = 0\n",
    "list_id = []\n",
    "list_text = []\n",
    "while i < len(df):\n",
    "    post_id = df.loc[i, 'ID']\n",
    "    #print(post_id, round(i / len(df) * 100, 2))\n",
    "    texts = collecting_comments(post_id, owner_id, count, thread_items_count, access_token, v)\n",
    "    df.loc[i, 'Count_comments'] = len(texts)\n",
    "    for j in texts:\n",
    "        list_id.append(post_id)\n",
    "        list_text.append(j)\n",
    "    i += 1\n",
    "d = {'Post_ID':np.array(list_id), 'Text':np.array(list_text)}\n",
    "df_comments = pd.DataFrame(d)\n",
    "df_comments.to_csv('comments_raw.csv')"
   ]
  },
  {
   "cell_type": "code",
   "execution_count": 37,
   "metadata": {
    "colab": {
     "base_uri": "https://localhost:8080/",
     "height": 419
    },
    "id": "P9wFKP9LCu1F",
    "outputId": "a50689b5-f60f-4ed0-f2b9-86d0f0cfe183"
   },
   "outputs": [
    {
     "data": {
      "text/html": [
       "<div>\n",
       "<style scoped>\n",
       "    .dataframe tbody tr th:only-of-type {\n",
       "        vertical-align: middle;\n",
       "    }\n",
       "\n",
       "    .dataframe tbody tr th {\n",
       "        vertical-align: top;\n",
       "    }\n",
       "\n",
       "    .dataframe thead th {\n",
       "        text-align: right;\n",
       "    }\n",
       "</style>\n",
       "<table border=\"1\" class=\"dataframe\">\n",
       "  <thead>\n",
       "    <tr style=\"text-align: right;\">\n",
       "      <th></th>\n",
       "      <th>Post_ID</th>\n",
       "      <th>Text</th>\n",
       "    </tr>\n",
       "  </thead>\n",
       "  <tbody>\n",
       "    <tr>\n",
       "      <th>0</th>\n",
       "      <td>115862</td>\n",
       "      <td>Да, я тоже сначала не понял</td>\n",
       "    </tr>\n",
       "    <tr>\n",
       "      <th>1</th>\n",
       "      <td>115862</td>\n",
       "      <td>Эталон гармонии!</td>\n",
       "    </tr>\n",
       "    <tr>\n",
       "      <th>2</th>\n",
       "      <td>115862</td>\n",
       "      <td>звучит хайпово</td>\n",
       "    </tr>\n",
       "    <tr>\n",
       "      <th>3</th>\n",
       "      <td>115861</td>\n",
       "      <td>В гугле</td>\n",
       "    </tr>\n",
       "    <tr>\n",
       "      <th>4</th>\n",
       "      <td>115861</td>\n",
       "      <td>Ну вообще тут нормально</td>\n",
       "    </tr>\n",
       "    <tr>\n",
       "      <th>...</th>\n",
       "      <td>...</td>\n",
       "      <td>...</td>\n",
       "    </tr>\n",
       "    <tr>\n",
       "      <th>61743</th>\n",
       "      <td>4</td>\n",
       "      <td>А начать с ней общаться, не? (=</td>\n",
       "    </tr>\n",
       "    <tr>\n",
       "      <th>61744</th>\n",
       "      <td>4</td>\n",
       "      <td>Вадим Борисович. Вы все комментарии читаете ил...</td>\n",
       "    </tr>\n",
       "    <tr>\n",
       "      <th>61745</th>\n",
       "      <td>4</td>\n",
       "      <td>привет из 2016</td>\n",
       "    </tr>\n",
       "    <tr>\n",
       "      <th>61746</th>\n",
       "      <td>4</td>\n",
       "      <td>привет из 2019</td>\n",
       "    </tr>\n",
       "    <tr>\n",
       "      <th>61747</th>\n",
       "      <td>4</td>\n",
       "      <td>Привет из 2020</td>\n",
       "    </tr>\n",
       "  </tbody>\n",
       "</table>\n",
       "<p>61748 rows × 2 columns</p>\n",
       "</div>"
      ],
      "text/plain": [
       "       Post_ID                                               Text\n",
       "0       115862                        Да, я тоже сначала не понял\n",
       "1       115862                                   Эталон гармонии!\n",
       "2       115862                                     звучит хайпово\n",
       "3       115861                                            В гугле\n",
       "4       115861                            Ну вообще тут нормально\n",
       "...        ...                                                ...\n",
       "61743        4                    А начать с ней общаться, не? (=\n",
       "61744        4  Вадим Борисович. Вы все комментарии читаете ил...\n",
       "61745        4                                     привет из 2016\n",
       "61746        4                                     привет из 2019\n",
       "61747        4                                     Привет из 2020\n",
       "\n",
       "[61748 rows x 2 columns]"
      ]
     },
     "execution_count": 37,
     "metadata": {},
     "output_type": "execute_result"
    }
   ],
   "source": [
    "df_comments"
   ]
  },
  {
   "cell_type": "code",
   "execution_count": 38,
   "metadata": {
    "colab": {
     "base_uri": "https://localhost:8080/",
     "height": 419
    },
    "id": "64BSTufnoZVr",
    "outputId": "136cd287-44b9-4648-ac38-ef3c7eec9dc9"
   },
   "outputs": [
    {
     "data": {
      "text/html": [
       "<div>\n",
       "<style scoped>\n",
       "    .dataframe tbody tr th:only-of-type {\n",
       "        vertical-align: middle;\n",
       "    }\n",
       "\n",
       "    .dataframe tbody tr th {\n",
       "        vertical-align: top;\n",
       "    }\n",
       "\n",
       "    .dataframe thead th {\n",
       "        text-align: right;\n",
       "    }\n",
       "</style>\n",
       "<table border=\"1\" class=\"dataframe\">\n",
       "  <thead>\n",
       "    <tr style=\"text-align: right;\">\n",
       "      <th></th>\n",
       "      <th>ID</th>\n",
       "      <th>OwnerID</th>\n",
       "      <th>Date</th>\n",
       "      <th>Text</th>\n",
       "      <th>Count_comments</th>\n",
       "    </tr>\n",
       "  </thead>\n",
       "  <tbody>\n",
       "    <tr>\n",
       "      <th>0</th>\n",
       "      <td>115862</td>\n",
       "      <td>-58804998</td>\n",
       "      <td>1614801537</td>\n",
       "      <td>Ах вот что это. Анон</td>\n",
       "      <td>3</td>\n",
       "    </tr>\n",
       "    <tr>\n",
       "      <th>1</th>\n",
       "      <td>115861</td>\n",
       "      <td>-58804998</td>\n",
       "      <td>1614801526</td>\n",
       "      <td>Есть фото общежития внутри из Люблино?</td>\n",
       "      <td>14</td>\n",
       "    </tr>\n",
       "    <tr>\n",
       "      <th>2</th>\n",
       "      <td>115860</td>\n",
       "      <td>-58804998</td>\n",
       "      <td>1614801505</td>\n",
       "      <td>У 1 или 2 курса будет обязательная производств...</td>\n",
       "      <td>1</td>\n",
       "    </tr>\n",
       "    <tr>\n",
       "      <th>3</th>\n",
       "      <td>115850</td>\n",
       "      <td>-58804998</td>\n",
       "      <td>1614755304</td>\n",
       "      <td>Потеряла пропуск на имя Марии Бурлаковой.\\nНап...</td>\n",
       "      <td>0</td>\n",
       "    </tr>\n",
       "    <tr>\n",
       "      <th>4</th>\n",
       "      <td>115840</td>\n",
       "      <td>-58804998</td>\n",
       "      <td>1614603396</td>\n",
       "      <td>Анон\\nИщу старост групп ИДБ-20-01,02,03,04</td>\n",
       "      <td>1</td>\n",
       "    </tr>\n",
       "    <tr>\n",
       "      <th>...</th>\n",
       "      <td>...</td>\n",
       "      <td>...</td>\n",
       "      <td>...</td>\n",
       "      <td>...</td>\n",
       "      <td>...</td>\n",
       "    </tr>\n",
       "    <tr>\n",
       "      <th>13759</th>\n",
       "      <td>20</td>\n",
       "      <td>-58804998</td>\n",
       "      <td>1380042205</td>\n",
       "      <td>а мы счастливы вместе :) кто бы мог подумать :...</td>\n",
       "      <td>3</td>\n",
       "    </tr>\n",
       "    <tr>\n",
       "      <th>13760</th>\n",
       "      <td>17</td>\n",
       "      <td>-58804998</td>\n",
       "      <td>1380041274</td>\n",
       "      <td>Это особенность такая у студентов технических ...</td>\n",
       "      <td>3</td>\n",
       "    </tr>\n",
       "    <tr>\n",
       "      <th>13761</th>\n",
       "      <td>15</td>\n",
       "      <td>-58804998</td>\n",
       "      <td>1380041060</td>\n",
       "      <td>Другу понравилась наша староста, но она помойм...</td>\n",
       "      <td>4</td>\n",
       "    </tr>\n",
       "    <tr>\n",
       "      <th>13762</th>\n",
       "      <td>7</td>\n",
       "      <td>-58804998</td>\n",
       "      <td>1380036426</td>\n",
       "      <td>Меня очень удивило, как перваки сегодня стоят ...</td>\n",
       "      <td>2</td>\n",
       "    </tr>\n",
       "    <tr>\n",
       "      <th>13763</th>\n",
       "      <td>4</td>\n",
       "      <td>-58804998</td>\n",
       "      <td>1379961244</td>\n",
       "      <td>я сижу уже какой год в аудитории и незнаю как ...</td>\n",
       "      <td>6</td>\n",
       "    </tr>\n",
       "  </tbody>\n",
       "</table>\n",
       "<p>13764 rows × 5 columns</p>\n",
       "</div>"
      ],
      "text/plain": [
       "           ID   OwnerID        Date  \\\n",
       "0      115862 -58804998  1614801537   \n",
       "1      115861 -58804998  1614801526   \n",
       "2      115860 -58804998  1614801505   \n",
       "3      115850 -58804998  1614755304   \n",
       "4      115840 -58804998  1614603396   \n",
       "...       ...       ...         ...   \n",
       "13759      20 -58804998  1380042205   \n",
       "13760      17 -58804998  1380041274   \n",
       "13761      15 -58804998  1380041060   \n",
       "13762       7 -58804998  1380036426   \n",
       "13763       4 -58804998  1379961244   \n",
       "\n",
       "                                                    Text  Count_comments  \n",
       "0                                   Ах вот что это. Анон               3  \n",
       "1                 Есть фото общежития внутри из Люблино?              14  \n",
       "2      У 1 или 2 курса будет обязательная производств...               1  \n",
       "3      Потеряла пропуск на имя Марии Бурлаковой.\\nНап...               0  \n",
       "4             Анон\\nИщу старост групп ИДБ-20-01,02,03,04               1  \n",
       "...                                                  ...             ...  \n",
       "13759  а мы счастливы вместе :) кто бы мог подумать :...               3  \n",
       "13760  Это особенность такая у студентов технических ...               3  \n",
       "13761  Другу понравилась наша староста, но она помойм...               4  \n",
       "13762  Меня очень удивило, как перваки сегодня стоят ...               2  \n",
       "13763  я сижу уже какой год в аудитории и незнаю как ...               6  \n",
       "\n",
       "[13764 rows x 5 columns]"
      ]
     },
     "execution_count": 38,
     "metadata": {},
     "output_type": "execute_result"
    }
   ],
   "source": [
    "df"
   ]
  },
  {
   "cell_type": "code",
   "execution_count": 39,
   "metadata": {},
   "outputs": [],
   "source": [
    "df.to_csv('themes_processed.csv')"
   ]
  },
  {
   "cell_type": "code",
   "execution_count": null,
   "metadata": {},
   "outputs": [],
   "source": []
  }
 ],
 "metadata": {
  "colab": {
   "collapsed_sections": [],
   "name": "Сбор данных.ipynb",
   "provenance": [],
   "toc_visible": true
  },
  "kernelspec": {
   "display_name": "Python 3",
   "language": "python",
   "name": "python3"
  },
  "language_info": {
   "codemirror_mode": {
    "name": "ipython",
    "version": 3
   },
   "file_extension": ".py",
   "mimetype": "text/x-python",
   "name": "python",
   "nbconvert_exporter": "python",
   "pygments_lexer": "ipython3",
   "version": "3.8.3"
  }
 },
 "nbformat": 4,
 "nbformat_minor": 1
}
